{
 "cells": [
  {
   "cell_type": "code",
   "execution_count": 1,
   "id": "63644a0f-60ab-4a46-ab5f-7084a295ac02",
   "metadata": {},
   "outputs": [],
   "source": [
    "import psycopg2\n",
    "import json"
   ]
  },
  {
   "cell_type": "code",
   "execution_count": 2,
   "id": "3b5064e0-0895-487a-a33c-478b5d3bed37",
   "metadata": {},
   "outputs": [],
   "source": [
    "# Load the configuration file\n",
    "\n",
    "file_path = 'config/config.txt'\n",
    "\n",
    "# Open and load the JSON data\n",
    "with open(file_path, 'r') as file:\n",
    "    config = json.load(file)\n",
    "\n",
    "# Now `data` is a Python dictionary (or list, depending on the file's structure)"
   ]
  },
  {
   "cell_type": "code",
   "execution_count": 3,
   "id": "70f262d1-e639-4178-8ed0-907c8b7fd372",
   "metadata": {},
   "outputs": [],
   "source": [
    "# Pull the required configuration fields from the file\n",
    "\n",
    "host = config['host']\n",
    "dbname = config['dbName']\n",
    "user = config['user']\n",
    "password = config['password']\n",
    "port = config['port']"
   ]
  },
  {
   "cell_type": "code",
   "execution_count": 4,
   "id": "c01dc5ff-3abd-4623-880b-04e0e955ac7c",
   "metadata": {},
   "outputs": [],
   "source": [
    "# Define connection parameters\n",
    "conn = psycopg2.connect( \n",
    "    host = host, # pgAdmin 4 > server properties > connection\n",
    "    dbname = dbname, # pgAdmin 4 > database properties\n",
    "    user = user, \n",
    "    password = password,\n",
    "    port = port # pgAdmin 4 > server properties > connection\n",
    ")\n",
    "\n",
    "# Create a cursor object to run queries\n",
    "cur = conn.cursor()\n",
    "\n",
    "# Added to make changes to the table\n",
    "cur.execute('DROP TABLE IF EXISTS market_summary')\n",
    "\n",
    "# Create a table in the database\n",
    "create_table_script = '''\n",
    "CREATE TABLE IF NOT EXISTS market_summary(\n",
    "    ticker TEXT,\n",
    "    open FLOAT,\n",
    "    high FLOAT,\n",
    "    low FLOAT,\n",
    "    close FLOAT,\n",
    "    volume FLOAT,\n",
    "    vwap TEXT,\n",
    "    timestamp TIMESTAMP,\n",
    "    transactions FLOAT,\n",
    "    otc BOOLEAN,\n",
    "    dw_last_updated TIMESTAMP\n",
    ");\n",
    "'''\n",
    "\n",
    "# Run the query & save the changes\n",
    "cur.execute(create_table_script)\n",
    "conn.commit()\n",
    "\n",
    "# Cleaning up\n",
    "cur.close()\n",
    "conn.close()"
   ]
  }
 ],
 "metadata": {
  "kernelspec": {
   "display_name": "Python [conda env:base] *",
   "language": "python",
   "name": "conda-base-py"
  },
  "language_info": {
   "codemirror_mode": {
    "name": "ipython",
    "version": 3
   },
   "file_extension": ".py",
   "mimetype": "text/x-python",
   "name": "python",
   "nbconvert_exporter": "python",
   "pygments_lexer": "ipython3",
   "version": "3.12.2"
  }
 },
 "nbformat": 4,
 "nbformat_minor": 5
}
